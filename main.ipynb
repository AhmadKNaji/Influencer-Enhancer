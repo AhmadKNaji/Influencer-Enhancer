{
 "cells": [
  {
   "cell_type": "code",
   "execution_count": 1,
   "metadata": {},
   "outputs": [],
   "source": [
    "from twitter import Tweets\n",
    "from data_clean import clean_tweet"
   ]
  },
  {
   "cell_type": "code",
   "execution_count": 2,
   "metadata": {},
   "outputs": [],
   "source": [
    "tweets = Tweets('elonmusk')"
   ]
  },
  {
   "cell_type": "code",
   "execution_count": 3,
   "metadata": {},
   "outputs": [],
   "source": [
    "data = tweets.get_tweets(100)"
   ]
  },
  {
   "cell_type": "code",
   "execution_count": 4,
   "metadata": {},
   "outputs": [],
   "source": [
    "datac = data.copy()"
   ]
  },
  {
   "cell_type": "code",
   "execution_count": 5,
   "metadata": {},
   "outputs": [
    {
     "data": {
      "text/html": [
       "<div>\n",
       "<style scoped>\n",
       "    .dataframe tbody tr th:only-of-type {\n",
       "        vertical-align: middle;\n",
       "    }\n",
       "\n",
       "    .dataframe tbody tr th {\n",
       "        vertical-align: top;\n",
       "    }\n",
       "\n",
       "    .dataframe thead th {\n",
       "        text-align: right;\n",
       "    }\n",
       "</style>\n",
       "<table border=\"1\" class=\"dataframe\">\n",
       "  <thead>\n",
       "    <tr style=\"text-align: right;\">\n",
       "      <th></th>\n",
       "      <th>TweetId</th>\n",
       "      <th>User</th>\n",
       "      <th>Tweet</th>\n",
       "      <th>Time</th>\n",
       "      <th>nb_retweets</th>\n",
       "      <th>nb_favorites</th>\n",
       "    </tr>\n",
       "  </thead>\n",
       "  <tbody>\n",
       "    <tr>\n",
       "      <th>0</th>\n",
       "      <td>1598477759730581504</td>\n",
       "      <td>elonmusk</td>\n",
       "      <td>Going live on Twitter in ~20 mins https://t.co...</td>\n",
       "      <td>2022-12-02 00:42:50+00:00</td>\n",
       "      <td>212</td>\n",
       "      <td>1729</td>\n",
       "    </tr>\n",
       "    <tr>\n",
       "      <th>1</th>\n",
       "      <td>1598420481769512960</td>\n",
       "      <td>elonmusk</td>\n",
       "      <td>🇯🇵🇯🇵 Congratulations Japan! 🇯🇵🇯🇵\\nhttps://t.co...</td>\n",
       "      <td>2022-12-01 20:55:14+00:00</td>\n",
       "      <td>63028</td>\n",
       "      <td>449623</td>\n",
       "    </tr>\n",
       "    <tr>\n",
       "      <th>2</th>\n",
       "      <td>1598414428525199360</td>\n",
       "      <td>elonmusk</td>\n",
       "      <td>AI is getting really good https://t.co/OwQgDi4wun</td>\n",
       "      <td>2022-12-01 20:31:11+00:00</td>\n",
       "      <td>3838</td>\n",
       "      <td>33658</td>\n",
       "    </tr>\n",
       "    <tr>\n",
       "      <th>3</th>\n",
       "      <td>1598381157124837376</td>\n",
       "      <td>elonmusk</td>\n",
       "      <td>I meet so many people who read twitter every d...</td>\n",
       "      <td>2022-12-01 18:18:59+00:00</td>\n",
       "      <td>29489</td>\n",
       "      <td>352116</td>\n",
       "    </tr>\n",
       "    <tr>\n",
       "      <th>4</th>\n",
       "      <td>1598360883474108417</td>\n",
       "      <td>elonmusk</td>\n",
       "      <td>Lot of people stuck in a damn-that’s-crazy Cha...</td>\n",
       "      <td>2022-12-01 16:58:25+00:00</td>\n",
       "      <td>4606</td>\n",
       "      <td>57832</td>\n",
       "    </tr>\n",
       "    <tr>\n",
       "      <th>...</th>\n",
       "      <td>...</td>\n",
       "      <td>...</td>\n",
       "      <td>...</td>\n",
       "      <td>...</td>\n",
       "      <td>...</td>\n",
       "      <td>...</td>\n",
       "    </tr>\n",
       "    <tr>\n",
       "      <th>95</th>\n",
       "      <td>1592962254382604288</td>\n",
       "      <td>elonmusk</td>\n",
       "      <td>RT @Tesla: Model S received the highest overal...</td>\n",
       "      <td>2022-11-16 19:26:11+00:00</td>\n",
       "      <td>4132</td>\n",
       "      <td>0</td>\n",
       "    </tr>\n",
       "    <tr>\n",
       "      <th>96</th>\n",
       "      <td>1592771551111577600</td>\n",
       "      <td>elonmusk</td>\n",
       "      <td>RT @NASA: LIVE NOW: The #Artemis era of explor...</td>\n",
       "      <td>2022-11-16 06:48:24+00:00</td>\n",
       "      <td>11850</td>\n",
       "      <td>0</td>\n",
       "    </tr>\n",
       "    <tr>\n",
       "      <th>97</th>\n",
       "      <td>1592734699578761219</td>\n",
       "      <td>elonmusk</td>\n",
       "      <td>RT @Tesla: https://t.co/2Ylnmh97Oz</td>\n",
       "      <td>2022-11-16 04:21:58+00:00</td>\n",
       "      <td>9867</td>\n",
       "      <td>0</td>\n",
       "    </tr>\n",
       "    <tr>\n",
       "      <th>98</th>\n",
       "      <td>1592658210917609472</td>\n",
       "      <td>elonmusk</td>\n",
       "      <td>Punting relaunch of Blue Verified to November ...</td>\n",
       "      <td>2022-11-15 23:18:02+00:00</td>\n",
       "      <td>15044</td>\n",
       "      <td>224278</td>\n",
       "    </tr>\n",
       "    <tr>\n",
       "      <th>99</th>\n",
       "      <td>1592618665933156352</td>\n",
       "      <td>elonmusk</td>\n",
       "      <td>Welcoming back Ligma &amp;amp; Johnson! https://t....</td>\n",
       "      <td>2022-11-15 20:40:54+00:00</td>\n",
       "      <td>48686</td>\n",
       "      <td>762270</td>\n",
       "    </tr>\n",
       "  </tbody>\n",
       "</table>\n",
       "<p>100 rows × 6 columns</p>\n",
       "</div>"
      ],
      "text/plain": [
       "                TweetId      User  \\\n",
       "0   1598477759730581504  elonmusk   \n",
       "1   1598420481769512960  elonmusk   \n",
       "2   1598414428525199360  elonmusk   \n",
       "3   1598381157124837376  elonmusk   \n",
       "4   1598360883474108417  elonmusk   \n",
       "..                  ...       ...   \n",
       "95  1592962254382604288  elonmusk   \n",
       "96  1592771551111577600  elonmusk   \n",
       "97  1592734699578761219  elonmusk   \n",
       "98  1592658210917609472  elonmusk   \n",
       "99  1592618665933156352  elonmusk   \n",
       "\n",
       "                                                Tweet  \\\n",
       "0   Going live on Twitter in ~20 mins https://t.co...   \n",
       "1   🇯🇵🇯🇵 Congratulations Japan! 🇯🇵🇯🇵\\nhttps://t.co...   \n",
       "2   AI is getting really good https://t.co/OwQgDi4wun   \n",
       "3   I meet so many people who read twitter every d...   \n",
       "4   Lot of people stuck in a damn-that’s-crazy Cha...   \n",
       "..                                                ...   \n",
       "95  RT @Tesla: Model S received the highest overal...   \n",
       "96  RT @NASA: LIVE NOW: The #Artemis era of explor...   \n",
       "97                 RT @Tesla: https://t.co/2Ylnmh97Oz   \n",
       "98  Punting relaunch of Blue Verified to November ...   \n",
       "99  Welcoming back Ligma &amp; Johnson! https://t....   \n",
       "\n",
       "                        Time  nb_retweets  nb_favorites  \n",
       "0  2022-12-02 00:42:50+00:00          212          1729  \n",
       "1  2022-12-01 20:55:14+00:00        63028        449623  \n",
       "2  2022-12-01 20:31:11+00:00         3838         33658  \n",
       "3  2022-12-01 18:18:59+00:00        29489        352116  \n",
       "4  2022-12-01 16:58:25+00:00         4606         57832  \n",
       "..                       ...          ...           ...  \n",
       "95 2022-11-16 19:26:11+00:00         4132             0  \n",
       "96 2022-11-16 06:48:24+00:00        11850             0  \n",
       "97 2022-11-16 04:21:58+00:00         9867             0  \n",
       "98 2022-11-15 23:18:02+00:00        15044        224278  \n",
       "99 2022-11-15 20:40:54+00:00        48686        762270  \n",
       "\n",
       "[100 rows x 6 columns]"
      ]
     },
     "execution_count": 5,
     "metadata": {},
     "output_type": "execute_result"
    }
   ],
   "source": [
    "datac"
   ]
  },
  {
   "cell_type": "code",
   "execution_count": 7,
   "metadata": {},
   "outputs": [
    {
     "data": {
      "text/plain": [
       "'Going live on Twitter in ~20 mins '"
      ]
     },
     "execution_count": 7,
     "metadata": {},
     "output_type": "execute_result"
    }
   ],
   "source": [
    "import re\n",
    "\n",
    "re.sub(r'https?://\\S+', \"\", data['Tweet'][0])"
   ]
  },
  {
   "cell_type": "code",
   "execution_count": 11,
   "metadata": {},
   "outputs": [
    {
     "data": {
      "text/plain": [
       "'go live twitter 20 min https t co jdei5ituw3'"
      ]
     },
     "execution_count": 11,
     "metadata": {},
     "output_type": "execute_result"
    }
   ],
   "source": [
    "clean_tweet(data['Tweet'][0])"
   ]
  }
 ],
 "metadata": {
  "kernelspec": {
   "display_name": "Python 3.9.12 ('base')",
   "language": "python",
   "name": "python3"
  },
  "language_info": {
   "codemirror_mode": {
    "name": "ipython",
    "version": 3
   },
   "file_extension": ".py",
   "mimetype": "text/x-python",
   "name": "python",
   "nbconvert_exporter": "python",
   "pygments_lexer": "ipython3",
   "version": "3.9.12"
  },
  "orig_nbformat": 4,
  "vscode": {
   "interpreter": {
    "hash": "88279d2366fe020547cde40dd65aa0e3aa662a6ec1f3ca12d88834876c85e1a6"
   }
  }
 },
 "nbformat": 4,
 "nbformat_minor": 2
}
