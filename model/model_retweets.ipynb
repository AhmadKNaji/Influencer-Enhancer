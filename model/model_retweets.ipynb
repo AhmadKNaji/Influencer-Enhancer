{
 "cells": [
  {
   "cell_type": "code",
   "execution_count": 99,
   "metadata": {},
   "outputs": [],
   "source": [
    "import pandas as pd\n",
    "\n",
    "from sklearn.feature_extraction.text import TfidfVectorizer\n",
    "\n",
    "from sklearn.linear_model import Ridge\n",
    "\n",
    "import numpy as np\n",
    "\n",
    "np.set_printoptions(suppress = True)"
   ]
  },
  {
   "cell_type": "code",
   "execution_count": 2,
   "metadata": {},
   "outputs": [],
   "source": [
    "train = pd.read_csv('../assets/csv files/train/retweets.csv')\n",
    "\n",
    "test = pd.read_csv('../assets/csv files/test/retweets.csv')"
   ]
  },
  {
   "cell_type": "code",
   "execution_count": 3,
   "metadata": {},
   "outputs": [],
   "source": [
    "train = train.dropna()\n",
    "\n",
    "test = test.dropna()"
   ]
  },
  {
   "cell_type": "code",
   "execution_count": 4,
   "metadata": {},
   "outputs": [],
   "source": [
    "X_train = train[['Tweet']]\n",
    "\n",
    "y_train = train[['nb_retweets']]\n",
    "\n",
    "X_test = test[['Tweet']]\n",
    "\n",
    "y_test = test[['nb_retweets']]\n"
   ]
  },
  {
   "cell_type": "code",
   "execution_count": 33,
   "metadata": {},
   "outputs": [],
   "source": [
    "tf_idf = TfidfVectorizer(max_features=20)\n",
    "\n",
    "tf_x_train = tf_idf.fit_transform(X_train['Tweet'])\n",
    "\n",
    "tf_x_test = tf_idf.fit_transform(X_test['Tweet'])"
   ]
  },
  {
   "cell_type": "code",
   "execution_count": 95,
   "metadata": {},
   "outputs": [
    {
     "data": {
      "text/plain": [
       "Ridge(random_state=42)"
      ]
     },
     "execution_count": 95,
     "metadata": {},
     "output_type": "execute_result"
    }
   ],
   "source": [
    "clf = Ridge(alpha = 1.0, random_state=42)\n",
    "\n",
    "clf.fit(tf_x_train, y_train)"
   ]
  },
  {
   "cell_type": "code",
   "execution_count": 96,
   "metadata": {},
   "outputs": [],
   "source": [
    "y_pred = clf.predict(tf_x_test)"
   ]
  },
  {
   "cell_type": "code",
   "execution_count": 97,
   "metadata": {},
   "outputs": [],
   "source": [
    "y_pred = np.absolute(y_pred)"
   ]
  },
  {
   "cell_type": "code",
   "execution_count": 98,
   "metadata": {},
   "outputs": [
    {
     "data": {
      "text/plain": [
       "array([[46511.01638154],\n",
       "       [46511.01638154],\n",
       "       [19100.77634488],\n",
       "       [46511.01638154],\n",
       "       [46511.01638154],\n",
       "       [37199.63119415],\n",
       "       [ 7350.27580842],\n",
       "       [36919.52638267],\n",
       "       [17882.33181068],\n",
       "       [19100.77634488],\n",
       "       [17042.98312073],\n",
       "       [ 9433.00632549],\n",
       "       [46511.01638154],\n",
       "       [19100.77634488],\n",
       "       [19100.77634488],\n",
       "       [28571.90590031],\n",
       "       [14132.85126814],\n",
       "       [16975.2046496 ],\n",
       "       [30686.56871652],\n",
       "       [19100.77634488],\n",
       "       [17456.90872908],\n",
       "       [42439.44608102],\n",
       "       [19413.97417669],\n",
       "       [19100.77634488],\n",
       "       [46511.01638154],\n",
       "       [19100.77634488],\n",
       "       [ 5111.22945281],\n",
       "       [ 8200.41551459],\n",
       "       [23845.77098093],\n",
       "       [23373.63489164],\n",
       "       [11005.99815007],\n",
       "       [17456.90872908],\n",
       "       [31028.21421799],\n",
       "       [17456.90872908],\n",
       "       [19100.77634488],\n",
       "       [17456.90872908],\n",
       "       [12927.58638426],\n",
       "       [19100.77634488],\n",
       "       [46511.01638154],\n",
       "       [46511.01638154],\n",
       "       [27332.32906838],\n",
       "       [46511.01638154],\n",
       "       [19100.77634488],\n",
       "       [ 6860.82385007],\n",
       "       [15440.16566109],\n",
       "       [28165.86208457],\n",
       "       [28165.86208457],\n",
       "       [19413.97417669],\n",
       "       [28165.86208457],\n",
       "       [46511.01638154],\n",
       "       [19100.77634488],\n",
       "       [19100.77634488],\n",
       "       [10865.5880704 ],\n",
       "       [36919.52638267],\n",
       "       [17577.91863878],\n",
       "       [12415.9212011 ],\n",
       "       [40673.50545428],\n",
       "       [19100.77634488],\n",
       "       [46511.01638154],\n",
       "       [20281.03685485],\n",
       "       [46511.01638154],\n",
       "       [18629.75896435],\n",
       "       [19100.77634488],\n",
       "       [28165.86208457],\n",
       "       [28165.86208457],\n",
       "       [46511.01638154],\n",
       "       [20842.73876212],\n",
       "       [39024.22308274],\n",
       "       [24047.06423731],\n",
       "       [19100.77634488],\n",
       "       [27575.13799806],\n",
       "       [27602.46005599],\n",
       "       [30445.27260898],\n",
       "       [19304.03834954],\n",
       "       [19100.77634488],\n",
       "       [19100.77634488],\n",
       "       [19100.77634488],\n",
       "       [46511.01638154],\n",
       "       [19100.77634488],\n",
       "       [19100.77634488],\n",
       "       [13046.03590688],\n",
       "       [23937.9492258 ],\n",
       "       [46511.01638154],\n",
       "       [17042.98312073],\n",
       "       [40673.50545428],\n",
       "       [ 8118.87783535],\n",
       "       [19100.77634488],\n",
       "       [21535.37723209],\n",
       "       [17577.91863878],\n",
       "       [46511.01638154],\n",
       "       [ 8760.73800802],\n",
       "       [ 8760.73800802],\n",
       "       [14211.26134105],\n",
       "       [14065.16694467],\n",
       "       [12481.20633865],\n",
       "       [46511.01638154]])"
      ]
     },
     "execution_count": 98,
     "metadata": {},
     "output_type": "execute_result"
    }
   ],
   "source": [
    "y_pred"
   ]
  }
 ],
 "metadata": {
  "kernelspec": {
   "display_name": "Python 3.9.12 ('base')",
   "language": "python",
   "name": "python3"
  },
  "language_info": {
   "codemirror_mode": {
    "name": "ipython",
    "version": 3
   },
   "file_extension": ".py",
   "mimetype": "text/x-python",
   "name": "python",
   "nbconvert_exporter": "python",
   "pygments_lexer": "ipython3",
   "version": "3.9.12"
  },
  "orig_nbformat": 4,
  "vscode": {
   "interpreter": {
    "hash": "88279d2366fe020547cde40dd65aa0e3aa662a6ec1f3ca12d88834876c85e1a6"
   }
  }
 },
 "nbformat": 4,
 "nbformat_minor": 2
}
