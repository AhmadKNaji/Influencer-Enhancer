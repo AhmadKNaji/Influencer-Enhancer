{
 "cells": [
  {
   "cell_type": "code",
   "execution_count": 1,
   "metadata": {},
   "outputs": [],
   "source": [
    "import sys\n",
    "\n",
    "sys.path.insert(1, '../processing')\n",
    "\n",
    "from twitter import Tweets\n",
    "\n",
    "from data_clean import clean_tweet\n",
    "\n",
    "import pandas as pd"
   ]
  },
  {
   "cell_type": "code",
   "execution_count": 2,
   "metadata": {},
   "outputs": [],
   "source": [
    "tweets = Tweets('elonmusk')"
   ]
  },
  {
   "cell_type": "code",
   "execution_count": 3,
   "metadata": {},
   "outputs": [],
   "source": [
    "data = tweets.get_tweets(1000)"
   ]
  },
  {
   "cell_type": "code",
   "execution_count": 4,
   "metadata": {},
   "outputs": [],
   "source": [
    "datac = data.copy()"
   ]
  },
  {
   "cell_type": "code",
   "execution_count": 5,
   "metadata": {},
   "outputs": [
    {
     "data": {
      "text/html": [
       "<div>\n",
       "<style scoped>\n",
       "    .dataframe tbody tr th:only-of-type {\n",
       "        vertical-align: middle;\n",
       "    }\n",
       "\n",
       "    .dataframe tbody tr th {\n",
       "        vertical-align: top;\n",
       "    }\n",
       "\n",
       "    .dataframe thead th {\n",
       "        text-align: right;\n",
       "    }\n",
       "</style>\n",
       "<table border=\"1\" class=\"dataframe\">\n",
       "  <thead>\n",
       "    <tr style=\"text-align: right;\">\n",
       "      <th></th>\n",
       "      <th>TweetId</th>\n",
       "      <th>User</th>\n",
       "      <th>Tweet</th>\n",
       "      <th>Time</th>\n",
       "      <th>nb_retweets</th>\n",
       "      <th>nb_favorites</th>\n",
       "    </tr>\n",
       "  </thead>\n",
       "  <tbody>\n",
       "    <tr>\n",
       "      <th>0</th>\n",
       "      <td>1598989666812071936</td>\n",
       "      <td>elonmusk</td>\n",
       "      <td>Twitter servers are running at Warp 9!! https:...</td>\n",
       "      <td>2022-12-03 10:36:59+00:00</td>\n",
       "      <td>17505</td>\n",
       "      <td>203313</td>\n",
       "    </tr>\n",
       "    <tr>\n",
       "      <th>1</th>\n",
       "      <td>1598864377750306816</td>\n",
       "      <td>elonmusk</td>\n",
       "      <td>Tune in for Episode 2 of The Twitter Files tom...</td>\n",
       "      <td>2022-12-03 02:19:07+00:00</td>\n",
       "      <td>48509</td>\n",
       "      <td>420641</td>\n",
       "    </tr>\n",
       "    <tr>\n",
       "      <th>2</th>\n",
       "      <td>1598825403182874625</td>\n",
       "      <td>elonmusk</td>\n",
       "      <td>Here we go!! 🍿🍿 https://t.co/eILK9f3bAm</td>\n",
       "      <td>2022-12-02 23:44:15+00:00</td>\n",
       "      <td>74825</td>\n",
       "      <td>323785</td>\n",
       "    </tr>\n",
       "    <tr>\n",
       "      <th>3</th>\n",
       "      <td>1598778884639653891</td>\n",
       "      <td>elonmusk</td>\n",
       "      <td>What really happened with the Hunter Biden sto...</td>\n",
       "      <td>2022-12-02 20:39:24+00:00</td>\n",
       "      <td>96933</td>\n",
       "      <td>618083</td>\n",
       "    </tr>\n",
       "    <tr>\n",
       "      <th>4</th>\n",
       "      <td>1598770563597606917</td>\n",
       "      <td>elonmusk</td>\n",
       "      <td>Major Twitter system improvements were impleme...</td>\n",
       "      <td>2022-12-02 20:06:20+00:00</td>\n",
       "      <td>7588</td>\n",
       "      <td>51024</td>\n",
       "    </tr>\n",
       "    <tr>\n",
       "      <th>...</th>\n",
       "      <td>...</td>\n",
       "      <td>...</td>\n",
       "      <td>...</td>\n",
       "      <td>...</td>\n",
       "      <td>...</td>\n",
       "      <td>...</td>\n",
       "    </tr>\n",
       "    <tr>\n",
       "      <th>631</th>\n",
       "      <td>1525625936007372802</td>\n",
       "      <td>elonmusk</td>\n",
       "      <td>The Lawyers Who Ate California https://t.co/i4...</td>\n",
       "      <td>2022-05-14 23:55:42+00:00</td>\n",
       "      <td>5095</td>\n",
       "      <td>48175</td>\n",
       "    </tr>\n",
       "    <tr>\n",
       "      <th>632</th>\n",
       "      <td>1525612988115320838</td>\n",
       "      <td>elonmusk</td>\n",
       "      <td>Very important to fix your Twitter feed:\\n\\n1....</td>\n",
       "      <td>2022-05-14 23:04:15+00:00</td>\n",
       "      <td>91661</td>\n",
       "      <td>532790</td>\n",
       "    </tr>\n",
       "    <tr>\n",
       "      <th>633</th>\n",
       "      <td>1525579400011345920</td>\n",
       "      <td>elonmusk</td>\n",
       "      <td>RT @SpaceX: Falcon 9’s first stage has landed ...</td>\n",
       "      <td>2022-05-14 20:50:47+00:00</td>\n",
       "      <td>4357</td>\n",
       "      <td>0</td>\n",
       "    </tr>\n",
       "    <tr>\n",
       "      <th>634</th>\n",
       "      <td>1525549535786717184</td>\n",
       "      <td>elonmusk</td>\n",
       "      <td>Whoever thought owning the libs would be cheap...</td>\n",
       "      <td>2022-05-14 18:52:07+00:00</td>\n",
       "      <td>30048</td>\n",
       "      <td>383199</td>\n",
       "    </tr>\n",
       "    <tr>\n",
       "      <th>635</th>\n",
       "      <td>1525305145239781377</td>\n",
       "      <td>elonmusk</td>\n",
       "      <td>The bots are angry at being counted 🤣</td>\n",
       "      <td>2022-05-14 02:41:00+00:00</td>\n",
       "      <td>55196</td>\n",
       "      <td>804351</td>\n",
       "    </tr>\n",
       "  </tbody>\n",
       "</table>\n",
       "<p>636 rows × 6 columns</p>\n",
       "</div>"
      ],
      "text/plain": [
       "                 TweetId      User  \\\n",
       "0    1598989666812071936  elonmusk   \n",
       "1    1598864377750306816  elonmusk   \n",
       "2    1598825403182874625  elonmusk   \n",
       "3    1598778884639653891  elonmusk   \n",
       "4    1598770563597606917  elonmusk   \n",
       "..                   ...       ...   \n",
       "631  1525625936007372802  elonmusk   \n",
       "632  1525612988115320838  elonmusk   \n",
       "633  1525579400011345920  elonmusk   \n",
       "634  1525549535786717184  elonmusk   \n",
       "635  1525305145239781377  elonmusk   \n",
       "\n",
       "                                                 Tweet  \\\n",
       "0    Twitter servers are running at Warp 9!! https:...   \n",
       "1    Tune in for Episode 2 of The Twitter Files tom...   \n",
       "2              Here we go!! 🍿🍿 https://t.co/eILK9f3bAm   \n",
       "3    What really happened with the Hunter Biden sto...   \n",
       "4    Major Twitter system improvements were impleme...   \n",
       "..                                                 ...   \n",
       "631  The Lawyers Who Ate California https://t.co/i4...   \n",
       "632  Very important to fix your Twitter feed:\\n\\n1....   \n",
       "633  RT @SpaceX: Falcon 9’s first stage has landed ...   \n",
       "634  Whoever thought owning the libs would be cheap...   \n",
       "635              The bots are angry at being counted 🤣   \n",
       "\n",
       "                         Time  nb_retweets  nb_favorites  \n",
       "0   2022-12-03 10:36:59+00:00        17505        203313  \n",
       "1   2022-12-03 02:19:07+00:00        48509        420641  \n",
       "2   2022-12-02 23:44:15+00:00        74825        323785  \n",
       "3   2022-12-02 20:39:24+00:00        96933        618083  \n",
       "4   2022-12-02 20:06:20+00:00         7588         51024  \n",
       "..                        ...          ...           ...  \n",
       "631 2022-05-14 23:55:42+00:00         5095         48175  \n",
       "632 2022-05-14 23:04:15+00:00        91661        532790  \n",
       "633 2022-05-14 20:50:47+00:00         4357             0  \n",
       "634 2022-05-14 18:52:07+00:00        30048        383199  \n",
       "635 2022-05-14 02:41:00+00:00        55196        804351  \n",
       "\n",
       "[636 rows x 6 columns]"
      ]
     },
     "execution_count": 5,
     "metadata": {},
     "output_type": "execute_result"
    }
   ],
   "source": [
    "datac"
   ]
  },
  {
   "cell_type": "code",
   "execution_count": 22,
   "metadata": {},
   "outputs": [],
   "source": [
    "pd.DataFrame.to_csv(datac, '../assets/csv files/raw_tweets.csv')"
   ]
  },
  {
   "cell_type": "code",
   "execution_count": 23,
   "metadata": {},
   "outputs": [],
   "source": [
    "datac['Tweet'] = datac['Tweet'].apply(lambda tweet: clean_tweet(tweet))"
   ]
  },
  {
   "cell_type": "code",
   "execution_count": 24,
   "metadata": {},
   "outputs": [],
   "source": [
    "pd.DataFrame.to_csv(datac, '../assets/csv files/unified_tweets.csv')"
   ]
  }
 ],
 "metadata": {
  "kernelspec": {
   "display_name": "Python 3.9.12 ('base')",
   "language": "python",
   "name": "python3"
  },
  "language_info": {
   "codemirror_mode": {
    "name": "ipython",
    "version": 3
   },
   "file_extension": ".py",
   "mimetype": "text/x-python",
   "name": "python",
   "nbconvert_exporter": "python",
   "pygments_lexer": "ipython3",
   "version": "3.9.12"
  },
  "orig_nbformat": 4,
  "vscode": {
   "interpreter": {
    "hash": "88279d2366fe020547cde40dd65aa0e3aa662a6ec1f3ca12d88834876c85e1a6"
   }
  }
 },
 "nbformat": 4,
 "nbformat_minor": 2
}
