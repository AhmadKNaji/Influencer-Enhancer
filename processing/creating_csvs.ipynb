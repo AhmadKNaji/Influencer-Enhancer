{
 "cells": [
  {
   "cell_type": "code",
   "execution_count": 1,
   "metadata": {},
   "outputs": [],
   "source": [
    "import sys\n",
    "\n",
    "sys.path.insert(1, '../processing')\n",
    "\n",
    "from twitter import Tweets\n",
    "\n",
    "from data_clean import clean_tweet\n",
    "\n",
    "import pandas as pd"
   ]
  },
  {
   "cell_type": "code",
   "execution_count": 2,
   "metadata": {},
   "outputs": [],
   "source": [
    "tweets = Tweets('elonmusk')"
   ]
  },
  {
   "cell_type": "code",
   "execution_count": 3,
   "metadata": {},
   "outputs": [],
   "source": [
    "data = tweets.get_tweets(10)"
   ]
  },
  {
   "cell_type": "code",
   "execution_count": 4,
   "metadata": {},
   "outputs": [],
   "source": [
    "datac = data.copy()"
   ]
  },
  {
   "cell_type": "code",
   "execution_count": 5,
   "metadata": {},
   "outputs": [
    {
     "data": {
      "text/html": [
       "<div>\n",
       "<style scoped>\n",
       "    .dataframe tbody tr th:only-of-type {\n",
       "        vertical-align: middle;\n",
       "    }\n",
       "\n",
       "    .dataframe tbody tr th {\n",
       "        vertical-align: top;\n",
       "    }\n",
       "\n",
       "    .dataframe thead th {\n",
       "        text-align: right;\n",
       "    }\n",
       "</style>\n",
       "<table border=\"1\" class=\"dataframe\">\n",
       "  <thead>\n",
       "    <tr style=\"text-align: right;\">\n",
       "      <th></th>\n",
       "      <th>TweetId</th>\n",
       "      <th>User</th>\n",
       "      <th>Tweet</th>\n",
       "      <th>Time</th>\n",
       "      <th>nb_retweets</th>\n",
       "      <th>nb_favorites</th>\n",
       "    </tr>\n",
       "  </thead>\n",
       "  <tbody>\n",
       "    <tr>\n",
       "      <th>0</th>\n",
       "      <td>1598770563597606917</td>\n",
       "      <td>elonmusk</td>\n",
       "      <td>Major Twitter system improvements were impleme...</td>\n",
       "      <td>2022-12-02 20:06:20+00:00</td>\n",
       "      <td>1328</td>\n",
       "      <td>7847</td>\n",
       "    </tr>\n",
       "    <tr>\n",
       "      <th>1</th>\n",
       "      <td>1598765633121898496</td>\n",
       "      <td>elonmusk</td>\n",
       "      <td>Twitter is now serving almost 90 billion tweet...</td>\n",
       "      <td>2022-12-02 19:46:45+00:00</td>\n",
       "      <td>4777</td>\n",
       "      <td>51770</td>\n",
       "    </tr>\n",
       "    <tr>\n",
       "      <th>2</th>\n",
       "      <td>1598752139278532610</td>\n",
       "      <td>elonmusk</td>\n",
       "      <td>Hate speech impressions (# of times tweet was ...</td>\n",
       "      <td>2022-12-02 18:53:08+00:00</td>\n",
       "      <td>5196</td>\n",
       "      <td>45168</td>\n",
       "    </tr>\n",
       "    <tr>\n",
       "      <th>3</th>\n",
       "      <td>1598718904830132225</td>\n",
       "      <td>elonmusk</td>\n",
       "      <td>You know Twitter is being fair when extremists...</td>\n",
       "      <td>2022-12-02 16:41:04+00:00</td>\n",
       "      <td>22873</td>\n",
       "      <td>266886</td>\n",
       "    </tr>\n",
       "    <tr>\n",
       "      <th>4</th>\n",
       "      <td>1598714331872780288</td>\n",
       "      <td>elonmusk</td>\n",
       "      <td>RT @neuralink: Thank you for joining our live ...</td>\n",
       "      <td>2022-12-02 16:22:54+00:00</td>\n",
       "      <td>1260</td>\n",
       "      <td>0</td>\n",
       "    </tr>\n",
       "    <tr>\n",
       "      <th>5</th>\n",
       "      <td>1598548365364498432</td>\n",
       "      <td>elonmusk</td>\n",
       "      <td>FAFO</td>\n",
       "      <td>2022-12-02 05:23:24+00:00</td>\n",
       "      <td>11803</td>\n",
       "      <td>160390</td>\n",
       "    </tr>\n",
       "    <tr>\n",
       "      <th>6</th>\n",
       "      <td>1598501091720630272</td>\n",
       "      <td>elonmusk</td>\n",
       "      <td>RT @Tesla: Tesla Semi driving 500 miles, fully...</td>\n",
       "      <td>2022-12-02 02:15:33+00:00</td>\n",
       "      <td>7898</td>\n",
       "      <td>0</td>\n",
       "    </tr>\n",
       "    <tr>\n",
       "      <th>7</th>\n",
       "      <td>1598482808020029441</td>\n",
       "      <td>elonmusk</td>\n",
       "      <td>Tesla Semi Truck launch in 5 mins! https://t.c...</td>\n",
       "      <td>2022-12-02 01:02:54+00:00</td>\n",
       "      <td>7694</td>\n",
       "      <td>89136</td>\n",
       "    </tr>\n",
       "    <tr>\n",
       "      <th>8</th>\n",
       "      <td>1598477759730581504</td>\n",
       "      <td>elonmusk</td>\n",
       "      <td>Going live on Twitter in ~20 mins https://t.co...</td>\n",
       "      <td>2022-12-02 00:42:50+00:00</td>\n",
       "      <td>3835</td>\n",
       "      <td>46420</td>\n",
       "    </tr>\n",
       "    <tr>\n",
       "      <th>9</th>\n",
       "      <td>1598420481769512960</td>\n",
       "      <td>elonmusk</td>\n",
       "      <td>🇯🇵🇯🇵 Congratulations Japan! 🇯🇵🇯🇵\\nhttps://t.co...</td>\n",
       "      <td>2022-12-01 20:55:14+00:00</td>\n",
       "      <td>82134</td>\n",
       "      <td>693588</td>\n",
       "    </tr>\n",
       "  </tbody>\n",
       "</table>\n",
       "</div>"
      ],
      "text/plain": [
       "               TweetId      User  \\\n",
       "0  1598770563597606917  elonmusk   \n",
       "1  1598765633121898496  elonmusk   \n",
       "2  1598752139278532610  elonmusk   \n",
       "3  1598718904830132225  elonmusk   \n",
       "4  1598714331872780288  elonmusk   \n",
       "5  1598548365364498432  elonmusk   \n",
       "6  1598501091720630272  elonmusk   \n",
       "7  1598482808020029441  elonmusk   \n",
       "8  1598477759730581504  elonmusk   \n",
       "9  1598420481769512960  elonmusk   \n",
       "\n",
       "                                               Tweet  \\\n",
       "0  Major Twitter system improvements were impleme...   \n",
       "1  Twitter is now serving almost 90 billion tweet...   \n",
       "2  Hate speech impressions (# of times tweet was ...   \n",
       "3  You know Twitter is being fair when extremists...   \n",
       "4  RT @neuralink: Thank you for joining our live ...   \n",
       "5                                               FAFO   \n",
       "6  RT @Tesla: Tesla Semi driving 500 miles, fully...   \n",
       "7  Tesla Semi Truck launch in 5 mins! https://t.c...   \n",
       "8  Going live on Twitter in ~20 mins https://t.co...   \n",
       "9  🇯🇵🇯🇵 Congratulations Japan! 🇯🇵🇯🇵\\nhttps://t.co...   \n",
       "\n",
       "                       Time  nb_retweets  nb_favorites  \n",
       "0 2022-12-02 20:06:20+00:00         1328          7847  \n",
       "1 2022-12-02 19:46:45+00:00         4777         51770  \n",
       "2 2022-12-02 18:53:08+00:00         5196         45168  \n",
       "3 2022-12-02 16:41:04+00:00        22873        266886  \n",
       "4 2022-12-02 16:22:54+00:00         1260             0  \n",
       "5 2022-12-02 05:23:24+00:00        11803        160390  \n",
       "6 2022-12-02 02:15:33+00:00         7898             0  \n",
       "7 2022-12-02 01:02:54+00:00         7694         89136  \n",
       "8 2022-12-02 00:42:50+00:00         3835         46420  \n",
       "9 2022-12-01 20:55:14+00:00        82134        693588  "
      ]
     },
     "execution_count": 5,
     "metadata": {},
     "output_type": "execute_result"
    }
   ],
   "source": [
    "datac"
   ]
  },
  {
   "cell_type": "code",
   "execution_count": 18,
   "metadata": {},
   "outputs": [],
   "source": [
    "pd.DataFrame.to_csv(datac, './assets/csv files/raw_tweets.csv')"
   ]
  },
  {
   "cell_type": "code",
   "execution_count": 19,
   "metadata": {},
   "outputs": [],
   "source": [
    "datac['Tweet'] = datac['Tweet'].apply(lambda tweet: clean_tweet(tweet))"
   ]
  },
  {
   "cell_type": "code",
   "execution_count": 21,
   "metadata": {},
   "outputs": [],
   "source": [
    "pd.DataFrame.to_csv(datac, './assets/csv files/unified_tweets.csv')"
   ]
  }
 ],
 "metadata": {
  "kernelspec": {
   "display_name": "Python 3.9.12 ('base')",
   "language": "python",
   "name": "python3"
  },
  "language_info": {
   "codemirror_mode": {
    "name": "ipython",
    "version": 3
   },
   "file_extension": ".py",
   "mimetype": "text/x-python",
   "name": "python",
   "nbconvert_exporter": "python",
   "pygments_lexer": "ipython3",
   "version": "3.9.12"
  },
  "orig_nbformat": 4,
  "vscode": {
   "interpreter": {
    "hash": "88279d2366fe020547cde40dd65aa0e3aa662a6ec1f3ca12d88834876c85e1a6"
   }
  }
 },
 "nbformat": 4,
 "nbformat_minor": 2
}
