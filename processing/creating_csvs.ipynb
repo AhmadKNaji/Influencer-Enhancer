{
 "cells": [
  {
   "cell_type": "code",
   "execution_count": 17,
   "metadata": {},
   "outputs": [],
   "source": [
    "from twitter import Tweets\n",
    "from data_clean import clean_tweet\n",
    "import pandas as pd"
   ]
  },
  {
   "cell_type": "code",
   "execution_count": 2,
   "metadata": {},
   "outputs": [],
   "source": [
    "tweets = Tweets('elonmusk')"
   ]
  },
  {
   "cell_type": "code",
   "execution_count": 13,
   "metadata": {},
   "outputs": [],
   "source": [
    "data = tweets.get_tweets(10000)"
   ]
  },
  {
   "cell_type": "code",
   "execution_count": 14,
   "metadata": {},
   "outputs": [],
   "source": [
    "datac = data.copy()"
   ]
  },
  {
   "cell_type": "code",
   "execution_count": 15,
   "metadata": {},
   "outputs": [
    {
     "data": {
      "text/html": [
       "<div>\n",
       "<style scoped>\n",
       "    .dataframe tbody tr th:only-of-type {\n",
       "        vertical-align: middle;\n",
       "    }\n",
       "\n",
       "    .dataframe tbody tr th {\n",
       "        vertical-align: top;\n",
       "    }\n",
       "\n",
       "    .dataframe thead th {\n",
       "        text-align: right;\n",
       "    }\n",
       "</style>\n",
       "<table border=\"1\" class=\"dataframe\">\n",
       "  <thead>\n",
       "    <tr style=\"text-align: right;\">\n",
       "      <th></th>\n",
       "      <th>TweetId</th>\n",
       "      <th>User</th>\n",
       "      <th>Tweet</th>\n",
       "      <th>Time</th>\n",
       "      <th>nb_retweets</th>\n",
       "      <th>nb_favorites</th>\n",
       "    </tr>\n",
       "  </thead>\n",
       "  <tbody>\n",
       "    <tr>\n",
       "      <th>0</th>\n",
       "      <td>1598765633121898496</td>\n",
       "      <td>elonmusk</td>\n",
       "      <td>Twitter is now serving almost 90 billion tweet...</td>\n",
       "      <td>2022-12-02 19:46:45+00:00</td>\n",
       "      <td>2665</td>\n",
       "      <td>27558</td>\n",
       "    </tr>\n",
       "    <tr>\n",
       "      <th>1</th>\n",
       "      <td>1598752139278532610</td>\n",
       "      <td>elonmusk</td>\n",
       "      <td>Hate speech impressions (# of times tweet was ...</td>\n",
       "      <td>2022-12-02 18:53:08+00:00</td>\n",
       "      <td>4512</td>\n",
       "      <td>39202</td>\n",
       "    </tr>\n",
       "    <tr>\n",
       "      <th>2</th>\n",
       "      <td>1598718904830132225</td>\n",
       "      <td>elonmusk</td>\n",
       "      <td>You know Twitter is being fair when extremists...</td>\n",
       "      <td>2022-12-02 16:41:04+00:00</td>\n",
       "      <td>21841</td>\n",
       "      <td>253394</td>\n",
       "    </tr>\n",
       "    <tr>\n",
       "      <th>3</th>\n",
       "      <td>1598714331872780288</td>\n",
       "      <td>elonmusk</td>\n",
       "      <td>RT @neuralink: Thank you for joining our live ...</td>\n",
       "      <td>2022-12-02 16:22:54+00:00</td>\n",
       "      <td>1229</td>\n",
       "      <td>0</td>\n",
       "    </tr>\n",
       "    <tr>\n",
       "      <th>4</th>\n",
       "      <td>1598548365364498432</td>\n",
       "      <td>elonmusk</td>\n",
       "      <td>FAFO</td>\n",
       "      <td>2022-12-02 05:23:24+00:00</td>\n",
       "      <td>11705</td>\n",
       "      <td>158749</td>\n",
       "    </tr>\n",
       "    <tr>\n",
       "      <th>...</th>\n",
       "      <td>...</td>\n",
       "      <td>...</td>\n",
       "      <td>...</td>\n",
       "      <td>...</td>\n",
       "      <td>...</td>\n",
       "      <td>...</td>\n",
       "    </tr>\n",
       "    <tr>\n",
       "      <th>633</th>\n",
       "      <td>1524924666942349312</td>\n",
       "      <td>elonmusk</td>\n",
       "      <td>Stop the war on straws! https://t.co/aHv7uvm17D</td>\n",
       "      <td>2022-05-13 01:29:06+00:00</td>\n",
       "      <td>20123</td>\n",
       "      <td>271233</td>\n",
       "    </tr>\n",
       "    <tr>\n",
       "      <th>634</th>\n",
       "      <td>1524911860037963776</td>\n",
       "      <td>elonmusk</td>\n",
       "      <td>Updated Starlink availability by region https:...</td>\n",
       "      <td>2022-05-13 00:38:13+00:00</td>\n",
       "      <td>8746</td>\n",
       "      <td>94380</td>\n",
       "    </tr>\n",
       "    <tr>\n",
       "      <th>635</th>\n",
       "      <td>1524883482836623373</td>\n",
       "      <td>elonmusk</td>\n",
       "      <td>Biden’s mistake is that he thinks he was elect...</td>\n",
       "      <td>2022-05-12 22:45:27+00:00</td>\n",
       "      <td>92785</td>\n",
       "      <td>1069994</td>\n",
       "    </tr>\n",
       "    <tr>\n",
       "      <th>636</th>\n",
       "      <td>1524881263470993435</td>\n",
       "      <td>elonmusk</td>\n",
       "      <td>Even though I think a less divisive candidate ...</td>\n",
       "      <td>2022-05-12 22:36:38+00:00</td>\n",
       "      <td>40405</td>\n",
       "      <td>574741</td>\n",
       "    </tr>\n",
       "    <tr>\n",
       "      <th>637</th>\n",
       "      <td>1524877470343766017</td>\n",
       "      <td>elonmusk</td>\n",
       "      <td>Don’t Diss Information</td>\n",
       "      <td>2022-05-12 22:21:34+00:00</td>\n",
       "      <td>24909</td>\n",
       "      <td>338634</td>\n",
       "    </tr>\n",
       "  </tbody>\n",
       "</table>\n",
       "<p>638 rows × 6 columns</p>\n",
       "</div>"
      ],
      "text/plain": [
       "                 TweetId      User  \\\n",
       "0    1598765633121898496  elonmusk   \n",
       "1    1598752139278532610  elonmusk   \n",
       "2    1598718904830132225  elonmusk   \n",
       "3    1598714331872780288  elonmusk   \n",
       "4    1598548365364498432  elonmusk   \n",
       "..                   ...       ...   \n",
       "633  1524924666942349312  elonmusk   \n",
       "634  1524911860037963776  elonmusk   \n",
       "635  1524883482836623373  elonmusk   \n",
       "636  1524881263470993435  elonmusk   \n",
       "637  1524877470343766017  elonmusk   \n",
       "\n",
       "                                                 Tweet  \\\n",
       "0    Twitter is now serving almost 90 billion tweet...   \n",
       "1    Hate speech impressions (# of times tweet was ...   \n",
       "2    You know Twitter is being fair when extremists...   \n",
       "3    RT @neuralink: Thank you for joining our live ...   \n",
       "4                                                 FAFO   \n",
       "..                                                 ...   \n",
       "633    Stop the war on straws! https://t.co/aHv7uvm17D   \n",
       "634  Updated Starlink availability by region https:...   \n",
       "635  Biden’s mistake is that he thinks he was elect...   \n",
       "636  Even though I think a less divisive candidate ...   \n",
       "637                             Don’t Diss Information   \n",
       "\n",
       "                         Time  nb_retweets  nb_favorites  \n",
       "0   2022-12-02 19:46:45+00:00         2665         27558  \n",
       "1   2022-12-02 18:53:08+00:00         4512         39202  \n",
       "2   2022-12-02 16:41:04+00:00        21841        253394  \n",
       "3   2022-12-02 16:22:54+00:00         1229             0  \n",
       "4   2022-12-02 05:23:24+00:00        11705        158749  \n",
       "..                        ...          ...           ...  \n",
       "633 2022-05-13 01:29:06+00:00        20123        271233  \n",
       "634 2022-05-13 00:38:13+00:00         8746         94380  \n",
       "635 2022-05-12 22:45:27+00:00        92785       1069994  \n",
       "636 2022-05-12 22:36:38+00:00        40405        574741  \n",
       "637 2022-05-12 22:21:34+00:00        24909        338634  \n",
       "\n",
       "[638 rows x 6 columns]"
      ]
     },
     "execution_count": 15,
     "metadata": {},
     "output_type": "execute_result"
    }
   ],
   "source": [
    "datac"
   ]
  },
  {
   "cell_type": "code",
   "execution_count": 18,
   "metadata": {},
   "outputs": [],
   "source": [
    "pd.DataFrame.to_csv(datac, './assets/csv files/raw_tweets.csv')"
   ]
  },
  {
   "cell_type": "code",
   "execution_count": 19,
   "metadata": {},
   "outputs": [],
   "source": [
    "datac['Tweet'] = datac['Tweet'].apply(lambda tweet: clean_tweet(tweet))"
   ]
  },
  {
   "cell_type": "code",
   "execution_count": 21,
   "metadata": {},
   "outputs": [],
   "source": [
    "pd.DataFrame.to_csv(datac, './assets/csv files/unified_tweets.csv')"
   ]
  }
 ],
 "metadata": {
  "kernelspec": {
   "display_name": "Python 3.9.12 ('base')",
   "language": "python",
   "name": "python3"
  },
  "language_info": {
   "codemirror_mode": {
    "name": "ipython",
    "version": 3
   },
   "file_extension": ".py",
   "mimetype": "text/x-python",
   "name": "python",
   "nbconvert_exporter": "python",
   "pygments_lexer": "ipython3",
   "version": "3.9.12"
  },
  "orig_nbformat": 4,
  "vscode": {
   "interpreter": {
    "hash": "88279d2366fe020547cde40dd65aa0e3aa662a6ec1f3ca12d88834876c85e1a6"
   }
  }
 },
 "nbformat": 4,
 "nbformat_minor": 2
}
